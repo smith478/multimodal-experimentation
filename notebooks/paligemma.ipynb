{
 "cells": [
  {
   "cell_type": "code",
   "execution_count": null,
   "id": "46f68bf1-67d1-4a80-a596-616e509214b7",
   "metadata": {},
   "outputs": [],
   "source": [
    "import matplotlib.pyplot as plt\n",
    "from transformers import AutoProcessor, PaliGemmaForConditionalGeneration\n",
    "from PIL import Image\n",
    "import requests\n",
    "import torch"
   ]
  },
  {
   "cell_type": "code",
   "execution_count": null,
   "id": "08ee882d-f7fa-4370-838f-1018a5178aea",
   "metadata": {},
   "outputs": [],
   "source": [
    "from huggingface_hub import notebook_login\n",
    "notebook_login()"
   ]
  },
  {
   "cell_type": "code",
   "execution_count": null,
   "id": "81905b54-982a-4b6d-9281-f0fe8ac91575",
   "metadata": {},
   "outputs": [],
   "source": [
    "model_id = \"google/paligemma-3b-mix-224\""
   ]
  },
  {
   "cell_type": "code",
   "execution_count": null,
   "id": "8dc49a65-84a8-4bde-9fb1-c5bfb1b36b4b",
   "metadata": {},
   "outputs": [],
   "source": [
    "# raw_image = Image.open('../sample_images/IMG_1694.jpg')\n",
    "raw_image = Image.open('../sample_images/appraisal.png')\n",
    "raw_image = raw_image.convert('RGB')"
   ]
  },
  {
   "cell_type": "code",
   "execution_count": null,
   "id": "5182967c-589a-49b4-9acb-a867667885a9",
   "metadata": {},
   "outputs": [],
   "source": [
    "plt.imshow(raw_image)\n",
    "plt.show()"
   ]
  },
  {
   "cell_type": "code",
   "execution_count": null,
   "id": "07e82ac0-546b-49a3-ba96-24ef555d4e7c",
   "metadata": {},
   "outputs": [],
   "source": [
    "model = PaliGemmaForConditionalGeneration.from_pretrained(model_id).eval()\n",
    "processor = AutoProcessor.from_pretrained(model_id)"
   ]
  },
  {
   "cell_type": "code",
   "execution_count": null,
   "id": "b7beb889-c114-4b7f-93c8-7061fab201d4",
   "metadata": {},
   "outputs": [],
   "source": [
    "# Instruct the model to create a caption\n",
    "prompt = \"Does the image contain a front view of a home?\"\n",
    "model_inputs = processor(text=prompt, images=raw_image, return_tensors=\"pt\")\n",
    "input_len = model_inputs[\"input_ids\"].shape[-1]"
   ]
  },
  {
   "cell_type": "code",
   "execution_count": null,
   "id": "8ef9d303-1926-4914-a1a9-152c7666dfa1",
   "metadata": {},
   "outputs": [],
   "source": [
    "with torch.inference_mode():\n",
    "    generation = model.generate(**model_inputs, max_new_tokens=100, do_sample=False)\n",
    "    generation = generation[0][input_len:]\n",
    "    decoded = processor.decode(generation, skip_special_tokens=True)\n",
    "    print(decoded)"
   ]
  },
  {
   "cell_type": "code",
   "execution_count": null,
   "id": "d17ea888-6062-4bef-98b4-d212812acfef",
   "metadata": {},
   "outputs": [],
   "source": []
  }
 ],
 "metadata": {
  "kernelspec": {
   "display_name": "Python 3 (ipykernel)",
   "language": "python",
   "name": "python3"
  },
  "language_info": {
   "codemirror_mode": {
    "name": "ipython",
    "version": 3
   },
   "file_extension": ".py",
   "mimetype": "text/x-python",
   "name": "python",
   "nbconvert_exporter": "python",
   "pygments_lexer": "ipython3",
   "version": "3.10.10"
  }
 },
 "nbformat": 4,
 "nbformat_minor": 5
}
