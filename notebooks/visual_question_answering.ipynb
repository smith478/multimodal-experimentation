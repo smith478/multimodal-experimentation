{
 "cells": [
  {
   "cell_type": "code",
   "execution_count": null,
   "id": "dc8f5b9b-bfbe-4cf6-b978-6dff6d8361d7",
   "metadata": {},
   "outputs": [],
   "source": [
    "import matplotlib.pyplot as plt\n",
    "from PIL import Image\n",
    "from transformers import AutoModel, AutoProcessor\n",
    "import torch"
   ]
  },
  {
   "cell_type": "markdown",
   "id": "980ff15f-7fb6-437e-97ce-cd2292f7eb34",
   "metadata": {},
   "source": [
    "## Load model"
   ]
  },
  {
   "cell_type": "code",
   "execution_count": null,
   "id": "114c589c-f257-48c6-a473-2ee83a3deda4",
   "metadata": {},
   "outputs": [],
   "source": [
    "model = AutoModel.from_pretrained(\"visheratin/MC-LLaVA-3b\", torch_dtype=torch.float16, trust_remote_code=True).to(\"cuda\")\n",
    "processor = AutoProcessor.from_pretrained(\"visheratin/MC-LLaVA-3b\", trust_remote_code=True)"
   ]
  },
  {
   "cell_type": "markdown",
   "id": "f1f6e3a3-ddc0-452b-98a7-9981e49aa863",
   "metadata": {},
   "source": [
    "## Load the image"
   ]
  },
  {
   "cell_type": "code",
   "execution_count": null,
   "id": "25e12a81-6473-440a-b737-39dcc5f0b9c5",
   "metadata": {},
   "outputs": [],
   "source": [
    "raw_image = Image.open('../sample_images/IMG_1694.jpg')"
   ]
  },
  {
   "cell_type": "code",
   "execution_count": null,
   "id": "304adc72-9546-4775-b510-ac0b31803df5",
   "metadata": {},
   "outputs": [],
   "source": [
    "plt.imshow(raw_image)\n",
    "plt.show()"
   ]
  },
  {
   "cell_type": "code",
   "execution_count": null,
   "id": "a4a1bf50-d59d-4923-91b1-ebe41ba58372",
   "metadata": {},
   "outputs": [],
   "source": [
    "prompt = \"\"\"<|im_start|>user\n",
    "<image>\n",
    "Describe the image.<|im_end|>\n",
    "<|im_start|>assistant\n",
    "\"\"\""
   ]
  },
  {
   "cell_type": "code",
   "execution_count": null,
   "id": "9e0044f4-210c-4a4c-8e9f-893b87977053",
   "metadata": {},
   "outputs": [],
   "source": [
    "with torch.inference_mode():\n",
    "    inputs = processor(prompt, [raw_image], model, max_crops=100, num_tokens=728)"
   ]
  },
  {
   "cell_type": "code",
   "execution_count": null,
   "id": "0f4f9c06-b5b8-469d-bb08-90a6c9017121",
   "metadata": {},
   "outputs": [],
   "source": [
    "from transformers import TextStreamer\n",
    "\n",
    "streamer = TextStreamer(processor.tokenizer)"
   ]
  },
  {
   "cell_type": "code",
   "execution_count": null,
   "id": "84679958-90bf-44a5-a2bb-c0f2b3a92b04",
   "metadata": {},
   "outputs": [],
   "source": [
    "with torch.inference_mode():\n",
    "  output = model.generate(**inputs, max_new_tokens=200, do_sample=True, use_cache=False, top_p=0.9, temperature=1.2, eos_token_id=processor.tokenizer.eos_token_id, streamer=streamer)"
   ]
  },
  {
   "cell_type": "code",
   "execution_count": null,
   "id": "422b2a0b-a841-4c41-899b-5879b776235c",
   "metadata": {},
   "outputs": [],
   "source": [
    "print(processor.tokenizer.decode(output[0]).replace(prompt, \"\").replace(\"<|im_end|>\", \"\"))"
   ]
  }
 ],
 "metadata": {
  "kernelspec": {
   "display_name": "Python 3 (ipykernel)",
   "language": "python",
   "name": "python3"
  },
  "language_info": {
   "codemirror_mode": {
    "name": "ipython",
    "version": 3
   },
   "file_extension": ".py",
   "mimetype": "text/x-python",
   "name": "python",
   "nbconvert_exporter": "python",
   "pygments_lexer": "ipython3",
   "version": "3.10.10"
  }
 },
 "nbformat": 4,
 "nbformat_minor": 5
}
